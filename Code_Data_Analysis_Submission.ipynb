{
 "cells": [
  {
   "cell_type": "code",
   "execution_count": 288,
   "id": "676e43e1",
   "metadata": {},
   "outputs": [],
   "source": [
    "#Observation from the below analysis are as follows:\n",
    "\n",
    "#1.Probability distribution between test groups is Bernoulli Distribution,charts are as shown.\n",
    "#2Test group users(call-in) are less likely (52.6%) to have at least 1 additional REBILL than control group users(webform)(73.6%)\n",
    "#3.Webform/control group users generate more revenue than web-form users.\n",
    "#4.Charge back rate of call-in users (0.017) is slightly less that web-form users(0.028)"
   ]
  },
  {
   "cell_type": "code",
   "execution_count": 289,
   "id": "eac86f7e",
   "metadata": {},
   "outputs": [],
   "source": [
    "#importing necessary libraries.\n",
    "import pandas as pd\n",
    "import numpy as np\n",
    "import matplotlib.pyplot as plt\n",
    "import seaborn as sns\n",
    "import scipy.stats as stats"
   ]
  },
  {
   "cell_type": "code",
   "execution_count": 290,
   "id": "cd4d6290",
   "metadata": {},
   "outputs": [],
   "source": [
    "#uploading the data\n",
    "path=\"E:/transData.csv\"\n",
    "df_trans=pd.read_csv(path)"
   ]
  },
  {
   "cell_type": "code",
   "execution_count": 291,
   "id": "5d32f0ed",
   "metadata": {},
   "outputs": [],
   "source": [
    "path=\"E:/testSamples.csv\"\n",
    "df_test=pd.read_csv(path)"
   ]
  },
  {
   "cell_type": "code",
   "execution_count": 292,
   "id": "8c943959",
   "metadata": {},
   "outputs": [
    {
     "data": {
      "text/html": [
       "<div>\n",
       "<style scoped>\n",
       "    .dataframe tbody tr th:only-of-type {\n",
       "        vertical-align: middle;\n",
       "    }\n",
       "\n",
       "    .dataframe tbody tr th {\n",
       "        vertical-align: top;\n",
       "    }\n",
       "\n",
       "    .dataframe thead th {\n",
       "        text-align: right;\n",
       "    }\n",
       "</style>\n",
       "<table border=\"1\" class=\"dataframe\">\n",
       "  <thead>\n",
       "    <tr style=\"text-align: right;\">\n",
       "      <th></th>\n",
       "      <th>transaction_id</th>\n",
       "      <th>sample_id</th>\n",
       "      <th>transaction_type</th>\n",
       "      <th>transaction_amount</th>\n",
       "    </tr>\n",
       "  </thead>\n",
       "  <tbody>\n",
       "    <tr>\n",
       "      <th>0</th>\n",
       "      <td>52346326</td>\n",
       "      <td>11</td>\n",
       "      <td>REBILL</td>\n",
       "      <td>24.95</td>\n",
       "    </tr>\n",
       "    <tr>\n",
       "      <th>1</th>\n",
       "      <td>52346327</td>\n",
       "      <td>11</td>\n",
       "      <td>REBILL</td>\n",
       "      <td>24.95</td>\n",
       "    </tr>\n",
       "    <tr>\n",
       "      <th>2</th>\n",
       "      <td>52346328</td>\n",
       "      <td>32</td>\n",
       "      <td>REBILL</td>\n",
       "      <td>29.95</td>\n",
       "    </tr>\n",
       "    <tr>\n",
       "      <th>3</th>\n",
       "      <td>52346329</td>\n",
       "      <td>32</td>\n",
       "      <td>REBILL</td>\n",
       "      <td>29.95</td>\n",
       "    </tr>\n",
       "    <tr>\n",
       "      <th>4</th>\n",
       "      <td>52346330</td>\n",
       "      <td>32</td>\n",
       "      <td>REBILL</td>\n",
       "      <td>29.95</td>\n",
       "    </tr>\n",
       "  </tbody>\n",
       "</table>\n",
       "</div>"
      ],
      "text/plain": [
       "   transaction_id  sample_id transaction_type  transaction_amount\n",
       "0        52346326         11           REBILL               24.95\n",
       "1        52346327         11           REBILL               24.95\n",
       "2        52346328         32           REBILL               29.95\n",
       "3        52346329         32           REBILL               29.95\n",
       "4        52346330         32           REBILL               29.95"
      ]
     },
     "execution_count": 292,
     "metadata": {},
     "output_type": "execute_result"
    }
   ],
   "source": [
    "#understanding the data\n",
    "df_trans.head(5)"
   ]
  },
  {
   "cell_type": "code",
   "execution_count": 293,
   "id": "78ed3ad8",
   "metadata": {},
   "outputs": [
    {
     "data": {
      "text/html": [
       "<div>\n",
       "<style scoped>\n",
       "    .dataframe tbody tr th:only-of-type {\n",
       "        vertical-align: middle;\n",
       "    }\n",
       "\n",
       "    .dataframe tbody tr th {\n",
       "        vertical-align: top;\n",
       "    }\n",
       "\n",
       "    .dataframe thead th {\n",
       "        text-align: right;\n",
       "    }\n",
       "</style>\n",
       "<table border=\"1\" class=\"dataframe\">\n",
       "  <thead>\n",
       "    <tr style=\"text-align: right;\">\n",
       "      <th></th>\n",
       "      <th>sample_id</th>\n",
       "      <th>test_group</th>\n",
       "    </tr>\n",
       "  </thead>\n",
       "  <tbody>\n",
       "    <tr>\n",
       "      <th>0</th>\n",
       "      <td>1</td>\n",
       "      <td>0</td>\n",
       "    </tr>\n",
       "    <tr>\n",
       "      <th>1</th>\n",
       "      <td>2</td>\n",
       "      <td>1</td>\n",
       "    </tr>\n",
       "    <tr>\n",
       "      <th>2</th>\n",
       "      <td>3</td>\n",
       "      <td>0</td>\n",
       "    </tr>\n",
       "    <tr>\n",
       "      <th>3</th>\n",
       "      <td>4</td>\n",
       "      <td>1</td>\n",
       "    </tr>\n",
       "    <tr>\n",
       "      <th>4</th>\n",
       "      <td>5</td>\n",
       "      <td>1</td>\n",
       "    </tr>\n",
       "  </tbody>\n",
       "</table>\n",
       "</div>"
      ],
      "text/plain": [
       "   sample_id  test_group\n",
       "0          1           0\n",
       "1          2           1\n",
       "2          3           0\n",
       "3          4           1\n",
       "4          5           1"
      ]
     },
     "execution_count": 293,
     "metadata": {},
     "output_type": "execute_result"
    }
   ],
   "source": [
    "df_test.head(5)"
   ]
  },
  {
   "cell_type": "code",
   "execution_count": 294,
   "id": "c1d7f274",
   "metadata": {},
   "outputs": [
    {
     "data": {
      "text/html": [
       "<div>\n",
       "<style scoped>\n",
       "    .dataframe tbody tr th:only-of-type {\n",
       "        vertical-align: middle;\n",
       "    }\n",
       "\n",
       "    .dataframe tbody tr th {\n",
       "        vertical-align: top;\n",
       "    }\n",
       "\n",
       "    .dataframe thead th {\n",
       "        text-align: right;\n",
       "    }\n",
       "</style>\n",
       "<table border=\"1\" class=\"dataframe\">\n",
       "  <thead>\n",
       "    <tr style=\"text-align: right;\">\n",
       "      <th></th>\n",
       "      <th>transaction_id</th>\n",
       "      <th>sample_id</th>\n",
       "      <th>transaction_type</th>\n",
       "      <th>transaction_amount</th>\n",
       "    </tr>\n",
       "  </thead>\n",
       "  <tbody>\n",
       "    <tr>\n",
       "      <th>count</th>\n",
       "      <td>7.430000e+03</td>\n",
       "      <td>7430.000000</td>\n",
       "      <td>7430</td>\n",
       "      <td>7430.000000</td>\n",
       "    </tr>\n",
       "    <tr>\n",
       "      <th>unique</th>\n",
       "      <td>NaN</td>\n",
       "      <td>NaN</td>\n",
       "      <td>3</td>\n",
       "      <td>NaN</td>\n",
       "    </tr>\n",
       "    <tr>\n",
       "      <th>top</th>\n",
       "      <td>NaN</td>\n",
       "      <td>NaN</td>\n",
       "      <td>REBILL</td>\n",
       "      <td>NaN</td>\n",
       "    </tr>\n",
       "    <tr>\n",
       "      <th>freq</th>\n",
       "      <td>NaN</td>\n",
       "      <td>NaN</td>\n",
       "      <td>6961</td>\n",
       "      <td>NaN</td>\n",
       "    </tr>\n",
       "    <tr>\n",
       "      <th>mean</th>\n",
       "      <td>5.235004e+07</td>\n",
       "      <td>30245.874024</td>\n",
       "      <td>NaN</td>\n",
       "      <td>24.935720</td>\n",
       "    </tr>\n",
       "    <tr>\n",
       "      <th>std</th>\n",
       "      <td>2.145001e+03</td>\n",
       "      <td>17064.733330</td>\n",
       "      <td>NaN</td>\n",
       "      <td>15.050653</td>\n",
       "    </tr>\n",
       "    <tr>\n",
       "      <th>min</th>\n",
       "      <td>5.234633e+07</td>\n",
       "      <td>11.000000</td>\n",
       "      <td>NaN</td>\n",
       "      <td>-39.950000</td>\n",
       "    </tr>\n",
       "    <tr>\n",
       "      <th>25%</th>\n",
       "      <td>5.234818e+07</td>\n",
       "      <td>15866.250000</td>\n",
       "      <td>NaN</td>\n",
       "      <td>24.950000</td>\n",
       "    </tr>\n",
       "    <tr>\n",
       "      <th>50%</th>\n",
       "      <td>5.235004e+07</td>\n",
       "      <td>30557.000000</td>\n",
       "      <td>NaN</td>\n",
       "      <td>24.950000</td>\n",
       "    </tr>\n",
       "    <tr>\n",
       "      <th>75%</th>\n",
       "      <td>5.235190e+07</td>\n",
       "      <td>44945.000000</td>\n",
       "      <td>NaN</td>\n",
       "      <td>32.950000</td>\n",
       "    </tr>\n",
       "    <tr>\n",
       "      <th>max</th>\n",
       "      <td>5.235376e+07</td>\n",
       "      <td>59694.000000</td>\n",
       "      <td>NaN</td>\n",
       "      <td>39.950000</td>\n",
       "    </tr>\n",
       "  </tbody>\n",
       "</table>\n",
       "</div>"
      ],
      "text/plain": [
       "        transaction_id     sample_id transaction_type  transaction_amount\n",
       "count     7.430000e+03   7430.000000             7430         7430.000000\n",
       "unique             NaN           NaN                3                 NaN\n",
       "top                NaN           NaN           REBILL                 NaN\n",
       "freq               NaN           NaN             6961                 NaN\n",
       "mean      5.235004e+07  30245.874024              NaN           24.935720\n",
       "std       2.145001e+03  17064.733330              NaN           15.050653\n",
       "min       5.234633e+07     11.000000              NaN          -39.950000\n",
       "25%       5.234818e+07  15866.250000              NaN           24.950000\n",
       "50%       5.235004e+07  30557.000000              NaN           24.950000\n",
       "75%       5.235190e+07  44945.000000              NaN           32.950000\n",
       "max       5.235376e+07  59694.000000              NaN           39.950000"
      ]
     },
     "execution_count": 294,
     "metadata": {},
     "output_type": "execute_result"
    }
   ],
   "source": [
    "df_trans.describe(include=\"all\")\n",
    "#no outliers observed"
   ]
  },
  {
   "cell_type": "code",
   "execution_count": 295,
   "id": "0e1f420b",
   "metadata": {},
   "outputs": [
    {
     "data": {
      "text/html": [
       "<div>\n",
       "<style scoped>\n",
       "    .dataframe tbody tr th:only-of-type {\n",
       "        vertical-align: middle;\n",
       "    }\n",
       "\n",
       "    .dataframe tbody tr th {\n",
       "        vertical-align: top;\n",
       "    }\n",
       "\n",
       "    .dataframe thead th {\n",
       "        text-align: right;\n",
       "    }\n",
       "</style>\n",
       "<table border=\"1\" class=\"dataframe\">\n",
       "  <thead>\n",
       "    <tr style=\"text-align: right;\">\n",
       "      <th></th>\n",
       "      <th>sample_id</th>\n",
       "      <th>test_group</th>\n",
       "    </tr>\n",
       "  </thead>\n",
       "  <tbody>\n",
       "    <tr>\n",
       "      <th>count</th>\n",
       "      <td>59721.00000</td>\n",
       "      <td>59721.000000</td>\n",
       "    </tr>\n",
       "    <tr>\n",
       "      <th>mean</th>\n",
       "      <td>29861.00000</td>\n",
       "      <td>0.248405</td>\n",
       "    </tr>\n",
       "    <tr>\n",
       "      <th>std</th>\n",
       "      <td>17240.11205</td>\n",
       "      <td>0.432092</td>\n",
       "    </tr>\n",
       "    <tr>\n",
       "      <th>min</th>\n",
       "      <td>1.00000</td>\n",
       "      <td>0.000000</td>\n",
       "    </tr>\n",
       "    <tr>\n",
       "      <th>25%</th>\n",
       "      <td>14931.00000</td>\n",
       "      <td>0.000000</td>\n",
       "    </tr>\n",
       "    <tr>\n",
       "      <th>50%</th>\n",
       "      <td>29861.00000</td>\n",
       "      <td>0.000000</td>\n",
       "    </tr>\n",
       "    <tr>\n",
       "      <th>75%</th>\n",
       "      <td>44791.00000</td>\n",
       "      <td>0.000000</td>\n",
       "    </tr>\n",
       "    <tr>\n",
       "      <th>max</th>\n",
       "      <td>59721.00000</td>\n",
       "      <td>1.000000</td>\n",
       "    </tr>\n",
       "  </tbody>\n",
       "</table>\n",
       "</div>"
      ],
      "text/plain": [
       "         sample_id    test_group\n",
       "count  59721.00000  59721.000000\n",
       "mean   29861.00000      0.248405\n",
       "std    17240.11205      0.432092\n",
       "min        1.00000      0.000000\n",
       "25%    14931.00000      0.000000\n",
       "50%    29861.00000      0.000000\n",
       "75%    44791.00000      0.000000\n",
       "max    59721.00000      1.000000"
      ]
     },
     "execution_count": 295,
     "metadata": {},
     "output_type": "execute_result"
    }
   ],
   "source": [
    "#understanding the data\n",
    "df_test.describe(include=\"all\")"
   ]
  },
  {
   "cell_type": "code",
   "execution_count": 296,
   "id": "8ce10990",
   "metadata": {},
   "outputs": [],
   "source": [
    "#joining the data sets into one data frame\n",
    "df = pd.merge(df_trans, df_test)"
   ]
  },
  {
   "cell_type": "code",
   "execution_count": 297,
   "id": "f8d0e636",
   "metadata": {},
   "outputs": [
    {
     "data": {
      "text/html": [
       "<div>\n",
       "<style scoped>\n",
       "    .dataframe tbody tr th:only-of-type {\n",
       "        vertical-align: middle;\n",
       "    }\n",
       "\n",
       "    .dataframe tbody tr th {\n",
       "        vertical-align: top;\n",
       "    }\n",
       "\n",
       "    .dataframe thead th {\n",
       "        text-align: right;\n",
       "    }\n",
       "</style>\n",
       "<table border=\"1\" class=\"dataframe\">\n",
       "  <thead>\n",
       "    <tr style=\"text-align: right;\">\n",
       "      <th></th>\n",
       "      <th>transaction_id</th>\n",
       "      <th>sample_id</th>\n",
       "      <th>transaction_type</th>\n",
       "      <th>transaction_amount</th>\n",
       "      <th>test_group</th>\n",
       "    </tr>\n",
       "  </thead>\n",
       "  <tbody>\n",
       "    <tr>\n",
       "      <th>0</th>\n",
       "      <td>False</td>\n",
       "      <td>False</td>\n",
       "      <td>False</td>\n",
       "      <td>False</td>\n",
       "      <td>False</td>\n",
       "    </tr>\n",
       "    <tr>\n",
       "      <th>1</th>\n",
       "      <td>False</td>\n",
       "      <td>False</td>\n",
       "      <td>False</td>\n",
       "      <td>False</td>\n",
       "      <td>False</td>\n",
       "    </tr>\n",
       "    <tr>\n",
       "      <th>2</th>\n",
       "      <td>False</td>\n",
       "      <td>False</td>\n",
       "      <td>False</td>\n",
       "      <td>False</td>\n",
       "      <td>False</td>\n",
       "    </tr>\n",
       "    <tr>\n",
       "      <th>3</th>\n",
       "      <td>False</td>\n",
       "      <td>False</td>\n",
       "      <td>False</td>\n",
       "      <td>False</td>\n",
       "      <td>False</td>\n",
       "    </tr>\n",
       "    <tr>\n",
       "      <th>4</th>\n",
       "      <td>False</td>\n",
       "      <td>False</td>\n",
       "      <td>False</td>\n",
       "      <td>False</td>\n",
       "      <td>False</td>\n",
       "    </tr>\n",
       "    <tr>\n",
       "      <th>...</th>\n",
       "      <td>...</td>\n",
       "      <td>...</td>\n",
       "      <td>...</td>\n",
       "      <td>...</td>\n",
       "      <td>...</td>\n",
       "    </tr>\n",
       "    <tr>\n",
       "      <th>7425</th>\n",
       "      <td>False</td>\n",
       "      <td>False</td>\n",
       "      <td>False</td>\n",
       "      <td>False</td>\n",
       "      <td>False</td>\n",
       "    </tr>\n",
       "    <tr>\n",
       "      <th>7426</th>\n",
       "      <td>False</td>\n",
       "      <td>False</td>\n",
       "      <td>False</td>\n",
       "      <td>False</td>\n",
       "      <td>False</td>\n",
       "    </tr>\n",
       "    <tr>\n",
       "      <th>7427</th>\n",
       "      <td>False</td>\n",
       "      <td>False</td>\n",
       "      <td>False</td>\n",
       "      <td>False</td>\n",
       "      <td>False</td>\n",
       "    </tr>\n",
       "    <tr>\n",
       "      <th>7428</th>\n",
       "      <td>False</td>\n",
       "      <td>False</td>\n",
       "      <td>False</td>\n",
       "      <td>False</td>\n",
       "      <td>False</td>\n",
       "    </tr>\n",
       "    <tr>\n",
       "      <th>7429</th>\n",
       "      <td>False</td>\n",
       "      <td>False</td>\n",
       "      <td>False</td>\n",
       "      <td>False</td>\n",
       "      <td>False</td>\n",
       "    </tr>\n",
       "  </tbody>\n",
       "</table>\n",
       "<p>7430 rows × 5 columns</p>\n",
       "</div>"
      ],
      "text/plain": [
       "      transaction_id  sample_id  transaction_type  transaction_amount  \\\n",
       "0              False      False             False               False   \n",
       "1              False      False             False               False   \n",
       "2              False      False             False               False   \n",
       "3              False      False             False               False   \n",
       "4              False      False             False               False   \n",
       "...              ...        ...               ...                 ...   \n",
       "7425           False      False             False               False   \n",
       "7426           False      False             False               False   \n",
       "7427           False      False             False               False   \n",
       "7428           False      False             False               False   \n",
       "7429           False      False             False               False   \n",
       "\n",
       "      test_group  \n",
       "0          False  \n",
       "1          False  \n",
       "2          False  \n",
       "3          False  \n",
       "4          False  \n",
       "...          ...  \n",
       "7425       False  \n",
       "7426       False  \n",
       "7427       False  \n",
       "7428       False  \n",
       "7429       False  \n",
       "\n",
       "[7430 rows x 5 columns]"
      ]
     },
     "execution_count": 297,
     "metadata": {},
     "output_type": "execute_result"
    }
   ],
   "source": [
    "#checking for NUlL values if any\n",
    "df.isnull()"
   ]
  },
  {
   "cell_type": "code",
   "execution_count": 298,
   "id": "aba6ca11",
   "metadata": {},
   "outputs": [
    {
     "data": {
      "text/html": [
       "<div>\n",
       "<style scoped>\n",
       "    .dataframe tbody tr th:only-of-type {\n",
       "        vertical-align: middle;\n",
       "    }\n",
       "\n",
       "    .dataframe tbody tr th {\n",
       "        vertical-align: top;\n",
       "    }\n",
       "\n",
       "    .dataframe thead th {\n",
       "        text-align: right;\n",
       "    }\n",
       "</style>\n",
       "<table border=\"1\" class=\"dataframe\">\n",
       "  <thead>\n",
       "    <tr style=\"text-align: right;\">\n",
       "      <th></th>\n",
       "      <th>transaction_id</th>\n",
       "      <th>sample_id</th>\n",
       "      <th>transaction_type</th>\n",
       "      <th>transaction_amount</th>\n",
       "      <th>test_group</th>\n",
       "    </tr>\n",
       "  </thead>\n",
       "  <tbody>\n",
       "    <tr>\n",
       "      <th>0</th>\n",
       "      <td>52346326</td>\n",
       "      <td>11</td>\n",
       "      <td>REBILL</td>\n",
       "      <td>24.95</td>\n",
       "      <td>1</td>\n",
       "    </tr>\n",
       "    <tr>\n",
       "      <th>1</th>\n",
       "      <td>52346327</td>\n",
       "      <td>11</td>\n",
       "      <td>REBILL</td>\n",
       "      <td>24.95</td>\n",
       "      <td>1</td>\n",
       "    </tr>\n",
       "    <tr>\n",
       "      <th>2</th>\n",
       "      <td>52346328</td>\n",
       "      <td>32</td>\n",
       "      <td>REBILL</td>\n",
       "      <td>29.95</td>\n",
       "      <td>1</td>\n",
       "    </tr>\n",
       "    <tr>\n",
       "      <th>3</th>\n",
       "      <td>52346329</td>\n",
       "      <td>32</td>\n",
       "      <td>REBILL</td>\n",
       "      <td>29.95</td>\n",
       "      <td>1</td>\n",
       "    </tr>\n",
       "    <tr>\n",
       "      <th>4</th>\n",
       "      <td>52346330</td>\n",
       "      <td>32</td>\n",
       "      <td>REBILL</td>\n",
       "      <td>29.95</td>\n",
       "      <td>1</td>\n",
       "    </tr>\n",
       "  </tbody>\n",
       "</table>\n",
       "</div>"
      ],
      "text/plain": [
       "   transaction_id  sample_id transaction_type  transaction_amount  test_group\n",
       "0        52346326         11           REBILL               24.95           1\n",
       "1        52346327         11           REBILL               24.95           1\n",
       "2        52346328         32           REBILL               29.95           1\n",
       "3        52346329         32           REBILL               29.95           1\n",
       "4        52346330         32           REBILL               29.95           1"
      ]
     },
     "execution_count": 298,
     "metadata": {},
     "output_type": "execute_result"
    }
   ],
   "source": [
    "df.head(5)"
   ]
  },
  {
   "cell_type": "code",
   "execution_count": 299,
   "id": "51c32867",
   "metadata": {},
   "outputs": [],
   "source": [
    "## First analysis : What is the aproximate probability distribution between the test group and the control group ##"
   ]
  },
  {
   "cell_type": "code",
   "execution_count": 300,
   "id": "1fa2d9f0",
   "metadata": {
    "scrolled": true
   },
   "outputs": [
    {
     "data": {
      "image/png": "[encoded data removed]",
      "text/plain": [
       "<Figure size 360x360 with 1 Axes>"
      ]
     },
     "metadata": {
      "needs_background": "light"
     },
     "output_type": "display_data"
    }
   ],
   "source": [
    "from scipy.stats import bernoulli\n",
    "def bernoulliDist():\n",
    "    bernoulli_data = df['test_group']\n",
    "    sns.displot(bernoulli_data,  kde = True,)\n",
    "\n",
    "bernoulliDist()"
   ]
  },
  {
   "cell_type": "code",
   "execution_count": 301,
   "id": "b21b7b8c",
   "metadata": {},
   "outputs": [],
   "source": [
    "#Probability distribution between test groups is Bernoulli Distribution,charts are as shown."
   ]
  },
  {
   "cell_type": "code",
   "execution_count": 302,
   "id": "26e3d0b2",
   "metadata": {},
   "outputs": [],
   "source": [
    "# SECOND ANALYSIS:Is a user that must call-in to cancel more likely to generate at least 1 addition REBILL  "
   ]
  },
  {
   "cell_type": "code",
   "execution_count": 303,
   "id": "bcc962a6",
   "metadata": {},
   "outputs": [
    {
     "data": {
      "text/html": [
       "<div>\n",
       "<style scoped>\n",
       "    .dataframe tbody tr th:only-of-type {\n",
       "        vertical-align: middle;\n",
       "    }\n",
       "\n",
       "    .dataframe tbody tr th {\n",
       "        vertical-align: top;\n",
       "    }\n",
       "\n",
       "    .dataframe thead th {\n",
       "        text-align: right;\n",
       "    }\n",
       "</style>\n",
       "<table border=\"1\" class=\"dataframe\">\n",
       "  <thead>\n",
       "    <tr style=\"text-align: right;\">\n",
       "      <th></th>\n",
       "      <th>transaction_id</th>\n",
       "      <th>sample_id</th>\n",
       "      <th>transaction_type</th>\n",
       "      <th>transaction_amount</th>\n",
       "      <th>test_group</th>\n",
       "    </tr>\n",
       "  </thead>\n",
       "  <tbody>\n",
       "    <tr>\n",
       "      <th>6</th>\n",
       "      <td>52346332</td>\n",
       "      <td>103</td>\n",
       "      <td>REBILL</td>\n",
       "      <td>19.95</td>\n",
       "      <td>0</td>\n",
       "    </tr>\n",
       "    <tr>\n",
       "      <th>7</th>\n",
       "      <td>52346333</td>\n",
       "      <td>103</td>\n",
       "      <td>REBILL</td>\n",
       "      <td>19.95</td>\n",
       "      <td>0</td>\n",
       "    </tr>\n",
       "    <tr>\n",
       "      <th>8</th>\n",
       "      <td>52346334</td>\n",
       "      <td>103</td>\n",
       "      <td>REBILL</td>\n",
       "      <td>19.95</td>\n",
       "      <td>0</td>\n",
       "    </tr>\n",
       "    <tr>\n",
       "      <th>9</th>\n",
       "      <td>52346335</td>\n",
       "      <td>103</td>\n",
       "      <td>REBILL</td>\n",
       "      <td>19.95</td>\n",
       "      <td>0</td>\n",
       "    </tr>\n",
       "    <tr>\n",
       "      <th>10</th>\n",
       "      <td>52346336</td>\n",
       "      <td>103</td>\n",
       "      <td>REBILL</td>\n",
       "      <td>19.95</td>\n",
       "      <td>0</td>\n",
       "    </tr>\n",
       "    <tr>\n",
       "      <th>...</th>\n",
       "      <td>...</td>\n",
       "      <td>...</td>\n",
       "      <td>...</td>\n",
       "      <td>...</td>\n",
       "      <td>...</td>\n",
       "    </tr>\n",
       "    <tr>\n",
       "      <th>7417</th>\n",
       "      <td>52353743</td>\n",
       "      <td>59573</td>\n",
       "      <td>REBILL</td>\n",
       "      <td>24.95</td>\n",
       "      <td>0</td>\n",
       "    </tr>\n",
       "    <tr>\n",
       "      <th>7418</th>\n",
       "      <td>52353744</td>\n",
       "      <td>59573</td>\n",
       "      <td>REBILL</td>\n",
       "      <td>24.95</td>\n",
       "      <td>0</td>\n",
       "    </tr>\n",
       "    <tr>\n",
       "      <th>7419</th>\n",
       "      <td>52353745</td>\n",
       "      <td>59573</td>\n",
       "      <td>REBILL</td>\n",
       "      <td>24.95</td>\n",
       "      <td>0</td>\n",
       "    </tr>\n",
       "    <tr>\n",
       "      <th>7427</th>\n",
       "      <td>52353753</td>\n",
       "      <td>59689</td>\n",
       "      <td>REBILL</td>\n",
       "      <td>24.95</td>\n",
       "      <td>0</td>\n",
       "    </tr>\n",
       "    <tr>\n",
       "      <th>7428</th>\n",
       "      <td>52353754</td>\n",
       "      <td>59689</td>\n",
       "      <td>REBILL</td>\n",
       "      <td>24.95</td>\n",
       "      <td>0</td>\n",
       "    </tr>\n",
       "  </tbody>\n",
       "</table>\n",
       "<p>3756 rows × 5 columns</p>\n",
       "</div>"
      ],
      "text/plain": [
       "      transaction_id  sample_id transaction_type  transaction_amount  \\\n",
       "6           52346332        103           REBILL               19.95   \n",
       "7           52346333        103           REBILL               19.95   \n",
       "8           52346334        103           REBILL               19.95   \n",
       "9           52346335        103           REBILL               19.95   \n",
       "10          52346336        103           REBILL               19.95   \n",
       "...              ...        ...              ...                 ...   \n",
       "7417        52353743      59573           REBILL               24.95   \n",
       "7418        52353744      59573           REBILL               24.95   \n",
       "7419        52353745      59573           REBILL               24.95   \n",
       "7427        52353753      59689           REBILL               24.95   \n",
       "7428        52353754      59689           REBILL               24.95   \n",
       "\n",
       "      test_group  \n",
       "6              0  \n",
       "7              0  \n",
       "8              0  \n",
       "9              0  \n",
       "10             0  \n",
       "...          ...  \n",
       "7417           0  \n",
       "7418           0  \n",
       "7419           0  \n",
       "7427           0  \n",
       "7428           0  \n",
       "\n",
       "[3756 rows x 5 columns]"
      ]
     },
     "execution_count": 303,
     "metadata": {},
     "output_type": "execute_result"
    }
   ],
   "source": [
    "#filtering the data for control group for rebill\n",
    "df_control_group = df[(df.test_group == 0) & (df.transaction_type=='REBILL')]\n",
    "df_control_group"
   ]
  },
  {
   "cell_type": "code",
   "execution_count": 304,
   "id": "a6f54ce4",
   "metadata": {},
   "outputs": [
    {
     "data": {
      "text/plain": [
       "sample_id\n",
       "103      11\n",
       "109       1\n",
       "127       2\n",
       "135       3\n",
       "364       2\n",
       "         ..\n",
       "59419     4\n",
       "59507     5\n",
       "59570     2\n",
       "59573     3\n",
       "59689     2\n",
       "Name: transaction_type, Length: 941, dtype: int64"
      ]
     },
     "execution_count": 304,
     "metadata": {},
     "output_type": "execute_result"
    }
   ],
   "source": [
    "Total_control_group_samples=df_control_group.groupby(['sample_id'])['transaction_type'].count()\n",
    "Total_control_group_samples"
   ]
  },
  {
   "cell_type": "code",
   "execution_count": 305,
   "id": "5888222e",
   "metadata": {},
   "outputs": [
    {
     "data": {
      "text/plain": [
       "sample_id\n",
       "103      11\n",
       "127       2\n",
       "135       3\n",
       "364       2\n",
       "426       4\n",
       "         ..\n",
       "59419     4\n",
       "59507     5\n",
       "59570     2\n",
       "59573     3\n",
       "59689     2\n",
       "Name: transaction_type, Length: 693, dtype: int64"
      ]
     },
     "execution_count": 305,
     "metadata": {},
     "output_type": "execute_result"
    }
   ],
   "source": [
    "#Grouping the control group/ web form user id that have atleast 1 addition REBILL\n",
    "control_group_atleast1_Rebill=df_control_group.groupby(['sample_id'])['transaction_type'].count().pipe(lambda  transaction_type: transaction_type.loc[transaction_type>1])\n",
    "control_group_atleast1_Rebill"
   ]
  },
  {
   "cell_type": "code",
   "execution_count": 306,
   "id": "cb3ace50",
   "metadata": {},
   "outputs": [
    {
     "data": {
      "text/plain": [
       "693"
      ]
     },
     "execution_count": 306,
     "metadata": {},
     "output_type": "execute_result"
    }
   ],
   "source": [
    "count_control_group_atleast1_Rebill=control_group_atleast1_Rebill.count()\n",
    "count_control_group_atleast1_Rebill"
   ]
  },
  {
   "cell_type": "code",
   "execution_count": 307,
   "id": "45244309",
   "metadata": {},
   "outputs": [
    {
     "data": {
      "text/plain": [
       "941"
      ]
     },
     "execution_count": 307,
     "metadata": {},
     "output_type": "execute_result"
    }
   ],
   "source": [
    "count_Total_control_group_samples=Total_control_group_samples.count()\n",
    "count_Total_control_group_samples"
   ]
  },
  {
   "cell_type": "code",
   "execution_count": 308,
   "id": "4dd8888e",
   "metadata": {},
   "outputs": [
    {
     "data": {
      "text/plain": [
       "73.64505844845908"
      ]
     },
     "execution_count": 308,
     "metadata": {},
     "output_type": "execute_result"
    }
   ],
   "source": [
    "percentage_control_group = count_control_group_atleast1_Rebill / count_Total_control_group_samples*100\n",
    "percentage_control_group"
   ]
  },
  {
   "cell_type": "code",
   "execution_count": 309,
   "id": "79c9131f",
   "metadata": {},
   "outputs": [],
   "source": [
    "#CONCLUSION FROM ABOVE:\n",
    "#Total control group samples with REBILL=940\n",
    "#Number of control group samples with atleast 1 REBILL = 693\n",
    "#%. of control group sample with atleast 1 REBILL =73.6%"
   ]
  },
  {
   "cell_type": "code",
   "execution_count": 310,
   "id": "6d3d8ae0",
   "metadata": {},
   "outputs": [],
   "source": [
    "#filtering the data for test group for rebill\n",
    "df_test_group = df[(df.test_group == 1) & (df.transaction_type=='REBILL')]"
   ]
  },
  {
   "cell_type": "code",
   "execution_count": 311,
   "id": "60166c60",
   "metadata": {},
   "outputs": [
    {
     "data": {
      "text/plain": [
       "sample_id\n",
       "11       2\n",
       "32       4\n",
       "137      2\n",
       "138      1\n",
       "249      1\n",
       "        ..\n",
       "59560    1\n",
       "59581    2\n",
       "59628    2\n",
       "59654    2\n",
       "59694    1\n",
       "Name: transaction_type, Length: 1556, dtype: int64"
      ]
     },
     "execution_count": 311,
     "metadata": {},
     "output_type": "execute_result"
    }
   ],
   "source": [
    "Total_test_group_samples=df_test_group.groupby(['sample_id'])['transaction_type'].count()\n",
    "Total_test_group_samples"
   ]
  },
  {
   "cell_type": "code",
   "execution_count": 312,
   "id": "7c6bc6da",
   "metadata": {},
   "outputs": [
    {
     "data": {
      "text/plain": [
       "sample_id\n",
       "11       2\n",
       "32       4\n",
       "137      2\n",
       "261      2\n",
       "295      2\n",
       "        ..\n",
       "59407    3\n",
       "59484    4\n",
       "59581    2\n",
       "59628    2\n",
       "59654    2\n",
       "Name: transaction_type, Length: 819, dtype: int64"
      ]
     },
     "execution_count": 312,
     "metadata": {},
     "output_type": "execute_result"
    }
   ],
   "source": [
    "#Grouping the test group/ Call-in user id that have atleast 1 addition REBILL\n",
    "test_group_atleast1_Rebill=df_test_group.groupby(['sample_id'])['transaction_type'].count().pipe(lambda  transaction_type: transaction_type.loc[transaction_type>1])\n",
    "test_group_atleast1_Rebill"
   ]
  },
  {
   "cell_type": "code",
   "execution_count": 313,
   "id": "8c3dd95b",
   "metadata": {},
   "outputs": [
    {
     "data": {
      "text/plain": [
       "819"
      ]
     },
     "execution_count": 313,
     "metadata": {},
     "output_type": "execute_result"
    }
   ],
   "source": [
    "count_test_group_atleast1_Rebill=test_group_atleast1_Rebill.count()\n",
    "count_test_group_atleast1_Rebill"
   ]
  },
  {
   "cell_type": "code",
   "execution_count": 314,
   "id": "2e8f091d",
   "metadata": {},
   "outputs": [
    {
     "data": {
      "text/plain": [
       "1556"
      ]
     },
     "execution_count": 314,
     "metadata": {},
     "output_type": "execute_result"
    }
   ],
   "source": [
    "count_Total_test_group_samples=Total_test_group_samples.count()\n",
    "count_Total_test_group_samples"
   ]
  },
  {
   "cell_type": "code",
   "execution_count": 315,
   "id": "0ecb7010",
   "metadata": {},
   "outputs": [
    {
     "data": {
      "text/plain": [
       "52.63496143958869"
      ]
     },
     "execution_count": 315,
     "metadata": {},
     "output_type": "execute_result"
    }
   ],
   "source": [
    "percentage_test_group = count_test_group_atleast1_Rebill / count_Total_test_group_samples*100\n",
    "percentage_test_group"
   ]
  },
  {
   "cell_type": "code",
   "execution_count": 316,
   "id": "a9d5ce6c",
   "metadata": {},
   "outputs": [],
   "source": [
    "#CONCLUSION FROM ABOVE:\n",
    "#Total test group samples with REBILL=1556\n",
    "#Number of test group samples with atleast 1 REBILL = 819\n",
    "#%. of test group sample with atleast 1 REBILL =53.6%"
   ]
  },
  {
   "cell_type": "code",
   "execution_count": 317,
   "id": "767979ce",
   "metadata": {},
   "outputs": [],
   "source": [
    "########################  THIRD ANALYSIS (Part-1) : Revenue of test groups without considering CHARGEBACK & REFUNDS   ####"
   ]
  },
  {
   "cell_type": "code",
   "execution_count": 318,
   "id": "b4712fcb",
   "metadata": {},
   "outputs": [],
   "source": [
    "#Calculating the net revenue of control group(0)"
   ]
  },
  {
   "cell_type": "code",
   "execution_count": 319,
   "id": "12389e8c",
   "metadata": {},
   "outputs": [],
   "source": [
    "#average_revenue_per_user_of_control_group"
   ]
  },
  {
   "cell_type": "code",
   "execution_count": 320,
   "id": "9c5e4c85",
   "metadata": {},
   "outputs": [
    {
     "data": {
      "text/plain": [
       "97359.19999999997"
      ]
     },
     "execution_count": 320,
     "metadata": {},
     "output_type": "execute_result"
    }
   ],
   "source": [
    "revenue_control_group = df_control_group['transaction_amount'].sum()\n",
    "revenue_control_group"
   ]
  },
  {
   "cell_type": "code",
   "execution_count": 321,
   "id": "5515af3a",
   "metadata": {},
   "outputs": [
    {
     "data": {
      "text/plain": [
       "103.46354941551537"
      ]
     },
     "execution_count": 321,
     "metadata": {},
     "output_type": "execute_result"
    }
   ],
   "source": [
    "average_revenue_per_user_of_control_group = revenue_control_group/count_Total_control_group_samples\n",
    "average_revenue_per_user_of_control_group"
   ]
  },
  {
   "cell_type": "code",
   "execution_count": 322,
   "id": "3f9aa83a",
   "metadata": {},
   "outputs": [],
   "source": [
    "#average_revenue_per_user_of_test_group "
   ]
  },
  {
   "cell_type": "code",
   "execution_count": 323,
   "id": "0d09d282",
   "metadata": {},
   "outputs": [
    {
     "data": {
      "text/plain": [
       "100869.74999999997"
      ]
     },
     "execution_count": 323,
     "metadata": {},
     "output_type": "execute_result"
    }
   ],
   "source": [
    "revenue_test_group = df_test_group['transaction_amount'].sum()\n",
    "revenue_test_group"
   ]
  },
  {
   "cell_type": "code",
   "execution_count": 324,
   "id": "09a18704",
   "metadata": {},
   "outputs": [
    {
     "data": {
      "text/plain": [
       "64.82631748071978"
      ]
     },
     "execution_count": 324,
     "metadata": {},
     "output_type": "execute_result"
    }
   ],
   "source": [
    "average_revenue_per_user_of_test_group = revenue_test_group/count_Total_test_group_samples\n",
    "average_revenue_per_user_of_test_group"
   ]
  },
  {
   "cell_type": "code",
   "execution_count": 325,
   "id": "ef60e29d",
   "metadata": {},
   "outputs": [],
   "source": [
    "#average_revenue_per_user_of_control_group = 103.46\n",
    "#average_revenue_per_user_of_test_group = 64.82"
   ]
  },
  {
   "cell_type": "code",
   "execution_count": 326,
   "id": "89e83320",
   "metadata": {},
   "outputs": [],
   "source": [
    "########################  THIRD ANALYSIS (Part-2) : Revenue of test groups considering CHARGEBACK & REFUNDS ########"
   ]
  },
  {
   "cell_type": "code",
   "execution_count": 327,
   "id": "42703241",
   "metadata": {},
   "outputs": [],
   "source": [
    "#Finding gross revenue of control group after adjusting the neagative transations"
   ]
  },
  {
   "cell_type": "code",
   "execution_count": 328,
   "id": "52f930a5",
   "metadata": {},
   "outputs": [],
   "source": [
    "df_control_group_chargeback = df[(df.test_group == 0) & (df.transaction_type=='CHARGEBACK')]"
   ]
  },
  {
   "cell_type": "code",
   "execution_count": 329,
   "id": "10c7d7cf",
   "metadata": {},
   "outputs": [
    {
     "data": {
      "text/plain": [
       "{18430, 24982}"
      ]
     },
     "execution_count": 329,
     "metadata": {},
     "output_type": "execute_result"
    }
   ],
   "source": [
    "#finding the control group users that have rebilled as well raised chargeback\n",
    "control_group_rebill_Chargeback =  set(df_control_group['sample_id']).intersection(df_control_group_chargeback['sample_id']) \n",
    "control_group_rebill_Chargeback"
   ]
  },
  {
   "cell_type": "code",
   "execution_count": 330,
   "id": "78e4bf56",
   "metadata": {},
   "outputs": [],
   "source": [
    "df_control_group_refund = df[(df.test_group == 0) & (df.transaction_type=='REFUND')]"
   ]
  },
  {
   "cell_type": "code",
   "execution_count": 331,
   "id": "7873f180",
   "metadata": {},
   "outputs": [
    {
     "data": {
      "text/plain": [
       "{24796}"
      ]
     },
     "execution_count": 331,
     "metadata": {},
     "output_type": "execute_result"
    }
   ],
   "source": [
    "#finding the control group users that have rebilled as well raised refund\n",
    "control_group_rebill_refund =  set(df_control_group['sample_id']).intersection(df_control_group_refund['sample_id']) \n",
    "control_group_rebill_refund"
   ]
  },
  {
   "cell_type": "code",
   "execution_count": 332,
   "id": "5b91c516",
   "metadata": {},
   "outputs": [
    {
     "data": {
      "text/html": [
       "<div>\n",
       "<style scoped>\n",
       "    .dataframe tbody tr th:only-of-type {\n",
       "        vertical-align: middle;\n",
       "    }\n",
       "\n",
       "    .dataframe tbody tr th {\n",
       "        vertical-align: top;\n",
       "    }\n",
       "\n",
       "    .dataframe thead th {\n",
       "        text-align: right;\n",
       "    }\n",
       "</style>\n",
       "<table border=\"1\" class=\"dataframe\">\n",
       "  <thead>\n",
       "    <tr style=\"text-align: right;\">\n",
       "      <th></th>\n",
       "      <th>transaction_id</th>\n",
       "      <th>sample_id</th>\n",
       "      <th>transaction_type</th>\n",
       "      <th>transaction_amount</th>\n",
       "      <th>test_group</th>\n",
       "    </tr>\n",
       "  </thead>\n",
       "  <tbody>\n",
       "    <tr>\n",
       "      <th>2220</th>\n",
       "      <td>52348546</td>\n",
       "      <td>18430</td>\n",
       "      <td>CHARGEBACK</td>\n",
       "      <td>-24.95</td>\n",
       "      <td>0</td>\n",
       "    </tr>\n",
       "    <tr>\n",
       "      <th>2221</th>\n",
       "      <td>52348547</td>\n",
       "      <td>18430</td>\n",
       "      <td>CHARGEBACK</td>\n",
       "      <td>-24.95</td>\n",
       "      <td>0</td>\n",
       "    </tr>\n",
       "    <tr>\n",
       "      <th>3063</th>\n",
       "      <td>52349389</td>\n",
       "      <td>24982</td>\n",
       "      <td>CHARGEBACK</td>\n",
       "      <td>-32.95</td>\n",
       "      <td>0</td>\n",
       "    </tr>\n",
       "  </tbody>\n",
       "</table>\n",
       "</div>"
      ],
      "text/plain": [
       "      transaction_id  sample_id transaction_type  transaction_amount  \\\n",
       "2220        52348546      18430       CHARGEBACK              -24.95   \n",
       "2221        52348547      18430       CHARGEBACK              -24.95   \n",
       "3063        52349389      24982       CHARGEBACK              -32.95   \n",
       "\n",
       "      test_group  \n",
       "2220           0  \n",
       "2221           0  \n",
       "3063           0  "
      ]
     },
     "execution_count": 332,
     "metadata": {},
     "output_type": "execute_result"
    }
   ],
   "source": [
    "# Get rows with set of chargeback values of control group(0)\n",
    "\n",
    "chargeback_transaction_control_group= df_control_group_chargeback.loc[df_control_group_chargeback['sample_id'].isin([24982, 18430])]\n",
    "chargeback_transaction_control_group"
   ]
  },
  {
   "cell_type": "code",
   "execution_count": 333,
   "id": "1025d94e",
   "metadata": {},
   "outputs": [
    {
     "data": {
      "text/html": [
       "<div>\n",
       "<style scoped>\n",
       "    .dataframe tbody tr th:only-of-type {\n",
       "        vertical-align: middle;\n",
       "    }\n",
       "\n",
       "    .dataframe tbody tr th {\n",
       "        vertical-align: top;\n",
       "    }\n",
       "\n",
       "    .dataframe thead th {\n",
       "        text-align: right;\n",
       "    }\n",
       "</style>\n",
       "<table border=\"1\" class=\"dataframe\">\n",
       "  <thead>\n",
       "    <tr style=\"text-align: right;\">\n",
       "      <th></th>\n",
       "      <th>transaction_id</th>\n",
       "      <th>sample_id</th>\n",
       "      <th>transaction_type</th>\n",
       "      <th>transaction_amount</th>\n",
       "      <th>test_group</th>\n",
       "    </tr>\n",
       "  </thead>\n",
       "  <tbody>\n",
       "    <tr>\n",
       "      <th>3023</th>\n",
       "      <td>52349349</td>\n",
       "      <td>24796</td>\n",
       "      <td>REFUND</td>\n",
       "      <td>-19.95</td>\n",
       "      <td>0</td>\n",
       "    </tr>\n",
       "  </tbody>\n",
       "</table>\n",
       "</div>"
      ],
      "text/plain": [
       "      transaction_id  sample_id transaction_type  transaction_amount  \\\n",
       "3023        52349349      24796           REFUND              -19.95   \n",
       "\n",
       "      test_group  \n",
       "3023           0  "
      ]
     },
     "execution_count": 333,
     "metadata": {},
     "output_type": "execute_result"
    }
   ],
   "source": [
    "# Get rows with set of refund values of control group(0)\n",
    "\n",
    "refund_transaction_control_group= df_control_group_refund.loc[df_control_group_refund['sample_id'].isin([24796])]\n",
    "refund_transaction_control_group"
   ]
  },
  {
   "cell_type": "code",
   "execution_count": 334,
   "id": "aa37bbb7",
   "metadata": {},
   "outputs": [
    {
     "data": {
      "text/html": [
       "<div>\n",
       "<style scoped>\n",
       "    .dataframe tbody tr th:only-of-type {\n",
       "        vertical-align: middle;\n",
       "    }\n",
       "\n",
       "    .dataframe tbody tr th {\n",
       "        vertical-align: top;\n",
       "    }\n",
       "\n",
       "    .dataframe thead th {\n",
       "        text-align: right;\n",
       "    }\n",
       "</style>\n",
       "<table border=\"1\" class=\"dataframe\">\n",
       "  <thead>\n",
       "    <tr style=\"text-align: right;\">\n",
       "      <th></th>\n",
       "      <th>transaction_id</th>\n",
       "      <th>sample_id</th>\n",
       "      <th>transaction_type</th>\n",
       "      <th>transaction_amount</th>\n",
       "      <th>test_group</th>\n",
       "    </tr>\n",
       "  </thead>\n",
       "  <tbody>\n",
       "    <tr>\n",
       "      <th>0</th>\n",
       "      <td>52348546</td>\n",
       "      <td>18430</td>\n",
       "      <td>CHARGEBACK</td>\n",
       "      <td>-24.95</td>\n",
       "      <td>0</td>\n",
       "    </tr>\n",
       "    <tr>\n",
       "      <th>1</th>\n",
       "      <td>52348547</td>\n",
       "      <td>18430</td>\n",
       "      <td>CHARGEBACK</td>\n",
       "      <td>-24.95</td>\n",
       "      <td>0</td>\n",
       "    </tr>\n",
       "    <tr>\n",
       "      <th>2</th>\n",
       "      <td>52349389</td>\n",
       "      <td>24982</td>\n",
       "      <td>CHARGEBACK</td>\n",
       "      <td>-32.95</td>\n",
       "      <td>0</td>\n",
       "    </tr>\n",
       "    <tr>\n",
       "      <th>3</th>\n",
       "      <td>52349349</td>\n",
       "      <td>24796</td>\n",
       "      <td>REFUND</td>\n",
       "      <td>-19.95</td>\n",
       "      <td>0</td>\n",
       "    </tr>\n",
       "  </tbody>\n",
       "</table>\n",
       "</div>"
      ],
      "text/plain": [
       "   transaction_id  sample_id transaction_type  transaction_amount  test_group\n",
       "0        52348546      18430       CHARGEBACK              -24.95           0\n",
       "1        52348547      18430       CHARGEBACK              -24.95           0\n",
       "2        52349389      24982       CHARGEBACK              -32.95           0\n",
       "3        52349349      24796           REFUND              -19.95           0"
      ]
     },
     "execution_count": 334,
     "metadata": {},
     "output_type": "execute_result"
    }
   ],
   "source": [
    "#concatanating the two data frames of control group to find negative revenue\n",
    "negative_revenue_control_group = pd.concat([chargeback_transaction_control_group, refund_transaction_control_group],                  # Append DataFrames\n",
    "                      ignore_index = True,\n",
    "                      sort = False)\n",
    "negative_revenue_control_group"
   ]
  },
  {
   "cell_type": "code",
   "execution_count": 335,
   "id": "b4df10ea",
   "metadata": {},
   "outputs": [
    {
     "data": {
      "text/plain": [
       "102.8"
      ]
     },
     "execution_count": 335,
     "metadata": {},
     "output_type": "execute_result"
    }
   ],
   "source": [
    "#finding absolute value of negative transactions(chargeback and refund) control group.\n",
    "negative_transactions_control_group = (np.abs(sum(negative_revenue_control_group.transaction_amount)))\n",
    "negative_transactions_control_group"
   ]
  },
  {
   "cell_type": "code",
   "execution_count": 336,
   "id": "7158503d",
   "metadata": {},
   "outputs": [
    {
     "data": {
      "text/plain": [
       "97256.39999999997"
      ]
     },
     "execution_count": 336,
     "metadata": {},
     "output_type": "execute_result"
    }
   ],
   "source": [
    "gross_revenue_control_group= revenue_control_group - negative_transactions_control_group\n",
    "gross_revenue_control_group"
   ]
  },
  {
   "cell_type": "code",
   "execution_count": 337,
   "id": "2c315ecd",
   "metadata": {},
   "outputs": [
    {
     "data": {
      "text/plain": [
       "103.3543039319872"
      ]
     },
     "execution_count": 337,
     "metadata": {},
     "output_type": "execute_result"
    }
   ],
   "source": [
    "average_gross_revenue_per_user_of_control_group = gross_revenue_control_group/count_Total_control_group_samples\n",
    "average_gross_revenue_per_user_of_control_group"
   ]
  },
  {
   "cell_type": "code",
   "execution_count": 338,
   "id": "ce89280c",
   "metadata": {},
   "outputs": [],
   "source": [
    "#Finding gross revenue of test group after adjusting the neagative transations"
   ]
  },
  {
   "cell_type": "code",
   "execution_count": 339,
   "id": "a46199bc",
   "metadata": {},
   "outputs": [],
   "source": [
    "df_test_group_chargeback = df[(df.test_group == 1) & (df.transaction_type=='CHARGEBACK')]"
   ]
  },
  {
   "cell_type": "code",
   "execution_count": 340,
   "id": "98d4d856",
   "metadata": {},
   "outputs": [
    {
     "data": {
      "text/plain": [
       "{7338, 15909, 17305, 29386, 35733, 35914}"
      ]
     },
     "execution_count": 340,
     "metadata": {},
     "output_type": "execute_result"
    }
   ],
   "source": [
    "#finding the test group users that have rebilled as well raised chargeback\n",
    "test_group_rebill_Chargeback =  set(df_test_group['sample_id']).intersection(df_test_group_chargeback['sample_id']) \n",
    "test_group_rebill_Chargeback"
   ]
  },
  {
   "cell_type": "code",
   "execution_count": 341,
   "id": "8935440d",
   "metadata": {},
   "outputs": [],
   "source": [
    "df_test_group_refund = df[(df.test_group == 1) & (df.transaction_type=='REFUND')]"
   ]
  },
  {
   "cell_type": "code",
   "execution_count": 342,
   "id": "7c0ea88a",
   "metadata": {},
   "outputs": [
    {
     "data": {
      "text/plain": [
       "{25114, 36640}"
      ]
     },
     "execution_count": 342,
     "metadata": {},
     "output_type": "execute_result"
    }
   ],
   "source": [
    "#finding the test group users that have rebilled as well raised refund\n",
    "test_group_rebill_refund =  set(df_test_group['sample_id']).intersection(df_test_group_refund['sample_id']) \n",
    "test_group_rebill_refund"
   ]
  },
  {
   "cell_type": "code",
   "execution_count": 343,
   "id": "cd534cc3",
   "metadata": {},
   "outputs": [
    {
     "data": {
      "text/html": [
       "<div>\n",
       "<style scoped>\n",
       "    .dataframe tbody tr th:only-of-type {\n",
       "        vertical-align: middle;\n",
       "    }\n",
       "\n",
       "    .dataframe tbody tr th {\n",
       "        vertical-align: top;\n",
       "    }\n",
       "\n",
       "    .dataframe thead th {\n",
       "        text-align: right;\n",
       "    }\n",
       "</style>\n",
       "<table border=\"1\" class=\"dataframe\">\n",
       "  <thead>\n",
       "    <tr style=\"text-align: right;\">\n",
       "      <th></th>\n",
       "      <th>transaction_id</th>\n",
       "      <th>sample_id</th>\n",
       "      <th>transaction_type</th>\n",
       "      <th>transaction_amount</th>\n",
       "      <th>test_group</th>\n",
       "    </tr>\n",
       "  </thead>\n",
       "  <tbody>\n",
       "    <tr>\n",
       "      <th>870</th>\n",
       "      <td>52347196</td>\n",
       "      <td>7338</td>\n",
       "      <td>CHARGEBACK</td>\n",
       "      <td>-29.95</td>\n",
       "      <td>1</td>\n",
       "    </tr>\n",
       "    <tr>\n",
       "      <th>1868</th>\n",
       "      <td>52348194</td>\n",
       "      <td>15909</td>\n",
       "      <td>CHARGEBACK</td>\n",
       "      <td>-24.95</td>\n",
       "      <td>1</td>\n",
       "    </tr>\n",
       "    <tr>\n",
       "      <th>2027</th>\n",
       "      <td>52348353</td>\n",
       "      <td>17305</td>\n",
       "      <td>CHARGEBACK</td>\n",
       "      <td>-24.95</td>\n",
       "      <td>1</td>\n",
       "    </tr>\n",
       "    <tr>\n",
       "      <th>2028</th>\n",
       "      <td>52348354</td>\n",
       "      <td>17305</td>\n",
       "      <td>CHARGEBACK</td>\n",
       "      <td>-24.95</td>\n",
       "      <td>1</td>\n",
       "    </tr>\n",
       "    <tr>\n",
       "      <th>3549</th>\n",
       "      <td>52349875</td>\n",
       "      <td>29386</td>\n",
       "      <td>CHARGEBACK</td>\n",
       "      <td>-29.95</td>\n",
       "      <td>1</td>\n",
       "    </tr>\n",
       "    <tr>\n",
       "      <th>4367</th>\n",
       "      <td>52350693</td>\n",
       "      <td>35733</td>\n",
       "      <td>CHARGEBACK</td>\n",
       "      <td>-24.95</td>\n",
       "      <td>1</td>\n",
       "    </tr>\n",
       "    <tr>\n",
       "      <th>4381</th>\n",
       "      <td>52350707</td>\n",
       "      <td>35914</td>\n",
       "      <td>CHARGEBACK</td>\n",
       "      <td>-39.95</td>\n",
       "      <td>1</td>\n",
       "    </tr>\n",
       "    <tr>\n",
       "      <th>4382</th>\n",
       "      <td>52350708</td>\n",
       "      <td>35914</td>\n",
       "      <td>CHARGEBACK</td>\n",
       "      <td>-39.95</td>\n",
       "      <td>1</td>\n",
       "    </tr>\n",
       "    <tr>\n",
       "      <th>4383</th>\n",
       "      <td>52350709</td>\n",
       "      <td>35914</td>\n",
       "      <td>CHARGEBACK</td>\n",
       "      <td>-39.95</td>\n",
       "      <td>1</td>\n",
       "    </tr>\n",
       "    <tr>\n",
       "      <th>4384</th>\n",
       "      <td>52350710</td>\n",
       "      <td>35914</td>\n",
       "      <td>CHARGEBACK</td>\n",
       "      <td>-39.95</td>\n",
       "      <td>1</td>\n",
       "    </tr>\n",
       "  </tbody>\n",
       "</table>\n",
       "</div>"
      ],
      "text/plain": [
       "      transaction_id  sample_id transaction_type  transaction_amount  \\\n",
       "870         52347196       7338       CHARGEBACK              -29.95   \n",
       "1868        52348194      15909       CHARGEBACK              -24.95   \n",
       "2027        52348353      17305       CHARGEBACK              -24.95   \n",
       "2028        52348354      17305       CHARGEBACK              -24.95   \n",
       "3549        52349875      29386       CHARGEBACK              -29.95   \n",
       "4367        52350693      35733       CHARGEBACK              -24.95   \n",
       "4381        52350707      35914       CHARGEBACK              -39.95   \n",
       "4382        52350708      35914       CHARGEBACK              -39.95   \n",
       "4383        52350709      35914       CHARGEBACK              -39.95   \n",
       "4384        52350710      35914       CHARGEBACK              -39.95   \n",
       "\n",
       "      test_group  \n",
       "870            1  \n",
       "1868           1  \n",
       "2027           1  \n",
       "2028           1  \n",
       "3549           1  \n",
       "4367           1  \n",
       "4381           1  \n",
       "4382           1  \n",
       "4383           1  \n",
       "4384           1  "
      ]
     },
     "execution_count": 343,
     "metadata": {},
     "output_type": "execute_result"
    }
   ],
   "source": [
    "# Get rows with set of chargeback values of test group(1)\n",
    "\n",
    "chargeback_transaction_test_group= df_test_group_chargeback.loc[df_test_group_chargeback['sample_id'].isin([7338, 15909, 17305, 29386, 35733, 35914])]\n",
    "chargeback_transaction_test_group"
   ]
  },
  {
   "cell_type": "code",
   "execution_count": 344,
   "id": "830fab07",
   "metadata": {},
   "outputs": [
    {
     "data": {
      "text/html": [
       "<div>\n",
       "<style scoped>\n",
       "    .dataframe tbody tr th:only-of-type {\n",
       "        vertical-align: middle;\n",
       "    }\n",
       "\n",
       "    .dataframe tbody tr th {\n",
       "        vertical-align: top;\n",
       "    }\n",
       "\n",
       "    .dataframe thead th {\n",
       "        text-align: right;\n",
       "    }\n",
       "</style>\n",
       "<table border=\"1\" class=\"dataframe\">\n",
       "  <thead>\n",
       "    <tr style=\"text-align: right;\">\n",
       "      <th></th>\n",
       "      <th>transaction_id</th>\n",
       "      <th>sample_id</th>\n",
       "      <th>transaction_type</th>\n",
       "      <th>transaction_amount</th>\n",
       "      <th>test_group</th>\n",
       "    </tr>\n",
       "  </thead>\n",
       "  <tbody>\n",
       "    <tr>\n",
       "      <th>3085</th>\n",
       "      <td>52349411</td>\n",
       "      <td>25114</td>\n",
       "      <td>REFUND</td>\n",
       "      <td>-24.95</td>\n",
       "      <td>1</td>\n",
       "    </tr>\n",
       "    <tr>\n",
       "      <th>3086</th>\n",
       "      <td>52349412</td>\n",
       "      <td>25114</td>\n",
       "      <td>REFUND</td>\n",
       "      <td>-24.95</td>\n",
       "      <td>1</td>\n",
       "    </tr>\n",
       "    <tr>\n",
       "      <th>4481</th>\n",
       "      <td>52350807</td>\n",
       "      <td>36640</td>\n",
       "      <td>REFUND</td>\n",
       "      <td>-29.95</td>\n",
       "      <td>1</td>\n",
       "    </tr>\n",
       "  </tbody>\n",
       "</table>\n",
       "</div>"
      ],
      "text/plain": [
       "      transaction_id  sample_id transaction_type  transaction_amount  \\\n",
       "3085        52349411      25114           REFUND              -24.95   \n",
       "3086        52349412      25114           REFUND              -24.95   \n",
       "4481        52350807      36640           REFUND              -29.95   \n",
       "\n",
       "      test_group  \n",
       "3085           1  \n",
       "3086           1  \n",
       "4481           1  "
      ]
     },
     "execution_count": 344,
     "metadata": {},
     "output_type": "execute_result"
    }
   ],
   "source": [
    "# Get rows with set of refund values of test group(1)\n",
    "\n",
    "refund_transaction_test_group= df_test_group_refund.loc[df_test_group_refund['sample_id'].isin([25114, 36640])]\n",
    "refund_transaction_test_group"
   ]
  },
  {
   "cell_type": "code",
   "execution_count": 345,
   "id": "2e9496bf",
   "metadata": {},
   "outputs": [
    {
     "data": {
      "text/html": [
       "<div>\n",
       "<style scoped>\n",
       "    .dataframe tbody tr th:only-of-type {\n",
       "        vertical-align: middle;\n",
       "    }\n",
       "\n",
       "    .dataframe tbody tr th {\n",
       "        vertical-align: top;\n",
       "    }\n",
       "\n",
       "    .dataframe thead th {\n",
       "        text-align: right;\n",
       "    }\n",
       "</style>\n",
       "<table border=\"1\" class=\"dataframe\">\n",
       "  <thead>\n",
       "    <tr style=\"text-align: right;\">\n",
       "      <th></th>\n",
       "      <th>transaction_id</th>\n",
       "      <th>sample_id</th>\n",
       "      <th>transaction_type</th>\n",
       "      <th>transaction_amount</th>\n",
       "      <th>test_group</th>\n",
       "    </tr>\n",
       "  </thead>\n",
       "  <tbody>\n",
       "    <tr>\n",
       "      <th>0</th>\n",
       "      <td>52347196</td>\n",
       "      <td>7338</td>\n",
       "      <td>CHARGEBACK</td>\n",
       "      <td>-29.95</td>\n",
       "      <td>1</td>\n",
       "    </tr>\n",
       "    <tr>\n",
       "      <th>1</th>\n",
       "      <td>52348194</td>\n",
       "      <td>15909</td>\n",
       "      <td>CHARGEBACK</td>\n",
       "      <td>-24.95</td>\n",
       "      <td>1</td>\n",
       "    </tr>\n",
       "    <tr>\n",
       "      <th>2</th>\n",
       "      <td>52348353</td>\n",
       "      <td>17305</td>\n",
       "      <td>CHARGEBACK</td>\n",
       "      <td>-24.95</td>\n",
       "      <td>1</td>\n",
       "    </tr>\n",
       "    <tr>\n",
       "      <th>3</th>\n",
       "      <td>52348354</td>\n",
       "      <td>17305</td>\n",
       "      <td>CHARGEBACK</td>\n",
       "      <td>-24.95</td>\n",
       "      <td>1</td>\n",
       "    </tr>\n",
       "    <tr>\n",
       "      <th>4</th>\n",
       "      <td>52349875</td>\n",
       "      <td>29386</td>\n",
       "      <td>CHARGEBACK</td>\n",
       "      <td>-29.95</td>\n",
       "      <td>1</td>\n",
       "    </tr>\n",
       "    <tr>\n",
       "      <th>5</th>\n",
       "      <td>52350693</td>\n",
       "      <td>35733</td>\n",
       "      <td>CHARGEBACK</td>\n",
       "      <td>-24.95</td>\n",
       "      <td>1</td>\n",
       "    </tr>\n",
       "    <tr>\n",
       "      <th>6</th>\n",
       "      <td>52350707</td>\n",
       "      <td>35914</td>\n",
       "      <td>CHARGEBACK</td>\n",
       "      <td>-39.95</td>\n",
       "      <td>1</td>\n",
       "    </tr>\n",
       "    <tr>\n",
       "      <th>7</th>\n",
       "      <td>52350708</td>\n",
       "      <td>35914</td>\n",
       "      <td>CHARGEBACK</td>\n",
       "      <td>-39.95</td>\n",
       "      <td>1</td>\n",
       "    </tr>\n",
       "    <tr>\n",
       "      <th>8</th>\n",
       "      <td>52350709</td>\n",
       "      <td>35914</td>\n",
       "      <td>CHARGEBACK</td>\n",
       "      <td>-39.95</td>\n",
       "      <td>1</td>\n",
       "    </tr>\n",
       "    <tr>\n",
       "      <th>9</th>\n",
       "      <td>52350710</td>\n",
       "      <td>35914</td>\n",
       "      <td>CHARGEBACK</td>\n",
       "      <td>-39.95</td>\n",
       "      <td>1</td>\n",
       "    </tr>\n",
       "    <tr>\n",
       "      <th>10</th>\n",
       "      <td>52349411</td>\n",
       "      <td>25114</td>\n",
       "      <td>REFUND</td>\n",
       "      <td>-24.95</td>\n",
       "      <td>1</td>\n",
       "    </tr>\n",
       "    <tr>\n",
       "      <th>11</th>\n",
       "      <td>52349412</td>\n",
       "      <td>25114</td>\n",
       "      <td>REFUND</td>\n",
       "      <td>-24.95</td>\n",
       "      <td>1</td>\n",
       "    </tr>\n",
       "    <tr>\n",
       "      <th>12</th>\n",
       "      <td>52350807</td>\n",
       "      <td>36640</td>\n",
       "      <td>REFUND</td>\n",
       "      <td>-29.95</td>\n",
       "      <td>1</td>\n",
       "    </tr>\n",
       "  </tbody>\n",
       "</table>\n",
       "</div>"
      ],
      "text/plain": [
       "    transaction_id  sample_id transaction_type  transaction_amount  test_group\n",
       "0         52347196       7338       CHARGEBACK              -29.95           1\n",
       "1         52348194      15909       CHARGEBACK              -24.95           1\n",
       "2         52348353      17305       CHARGEBACK              -24.95           1\n",
       "3         52348354      17305       CHARGEBACK              -24.95           1\n",
       "4         52349875      29386       CHARGEBACK              -29.95           1\n",
       "5         52350693      35733       CHARGEBACK              -24.95           1\n",
       "6         52350707      35914       CHARGEBACK              -39.95           1\n",
       "7         52350708      35914       CHARGEBACK              -39.95           1\n",
       "8         52350709      35914       CHARGEBACK              -39.95           1\n",
       "9         52350710      35914       CHARGEBACK              -39.95           1\n",
       "10        52349411      25114           REFUND              -24.95           1\n",
       "11        52349412      25114           REFUND              -24.95           1\n",
       "12        52350807      36640           REFUND              -29.95           1"
      ]
     },
     "execution_count": 345,
     "metadata": {},
     "output_type": "execute_result"
    }
   ],
   "source": [
    "#concatanating the two data frames of test group to find negative revenue\n",
    "negative_revenue_test_group = pd.concat([chargeback_transaction_test_group, refund_transaction_test_group],                  # Append DataFrames\n",
    "                      ignore_index = True,\n",
    "                      sort = False)\n",
    "negative_revenue_test_group"
   ]
  },
  {
   "cell_type": "code",
   "execution_count": 346,
   "id": "9406f649",
   "metadata": {},
   "outputs": [
    {
     "data": {
      "text/plain": [
       "399.3499999999999"
      ]
     },
     "execution_count": 346,
     "metadata": {},
     "output_type": "execute_result"
    }
   ],
   "source": [
    "#finding absolute value of negative transactions(chargeback and refund) test group.\n",
    "negative_transactions_test_group = (np.abs(sum(negative_revenue_test_group.transaction_amount)))\n",
    "negative_transactions_test_group"
   ]
  },
  {
   "cell_type": "code",
   "execution_count": 347,
   "id": "a7763ee4",
   "metadata": {},
   "outputs": [
    {
     "data": {
      "text/plain": [
       "100470.39999999997"
      ]
     },
     "execution_count": 347,
     "metadata": {},
     "output_type": "execute_result"
    }
   ],
   "source": [
    "gross_revenue_test_group= revenue_test_group - negative_transactions_test_group\n",
    "gross_revenue_test_group"
   ]
  },
  {
   "cell_type": "code",
   "execution_count": 348,
   "id": "03be5f68",
   "metadata": {},
   "outputs": [
    {
     "data": {
      "text/plain": [
       "64.56966580976861"
      ]
     },
     "execution_count": 348,
     "metadata": {},
     "output_type": "execute_result"
    }
   ],
   "source": [
    "average_gross_revenue_per_user_of_test_group = gross_revenue_test_group/count_Total_test_group_samples\n",
    "average_gross_revenue_per_user_of_test_group"
   ]
  },
  {
   "cell_type": "code",
   "execution_count": 349,
   "id": "def7e9e8",
   "metadata": {},
   "outputs": [],
   "source": [
    "#average_revenue_per_user_of_control_group = 103.35\n",
    "#average_revenue_per_user_of_test_group = 64.56"
   ]
  },
  {
   "cell_type": "code",
   "execution_count": null,
   "id": "7911e245",
   "metadata": {},
   "outputs": [],
   "source": []
  },
  {
   "cell_type": "code",
   "execution_count": 350,
   "id": "6cca261b",
   "metadata": {},
   "outputs": [],
   "source": [
    "######################## FOURTH ANALYSIS:chargeback rate ######################\n",
    "#Is a user that must call-in more likely to produce a higher chargeback rate"
   ]
  },
  {
   "cell_type": "code",
   "execution_count": 351,
   "id": "f0119fe4",
   "metadata": {},
   "outputs": [
    {
     "data": {
      "text/html": [
       "<div>\n",
       "<style scoped>\n",
       "    .dataframe tbody tr th:only-of-type {\n",
       "        vertical-align: middle;\n",
       "    }\n",
       "\n",
       "    .dataframe tbody tr th {\n",
       "        vertical-align: top;\n",
       "    }\n",
       "\n",
       "    .dataframe thead th {\n",
       "        text-align: right;\n",
       "    }\n",
       "</style>\n",
       "<table border=\"1\" class=\"dataframe\">\n",
       "  <thead>\n",
       "    <tr style=\"text-align: right;\">\n",
       "      <th></th>\n",
       "      <th>transaction_id</th>\n",
       "      <th>sample_id</th>\n",
       "      <th>transaction_type</th>\n",
       "      <th>transaction_amount</th>\n",
       "      <th>test_group</th>\n",
       "    </tr>\n",
       "  </thead>\n",
       "  <tbody>\n",
       "    <tr>\n",
       "      <th>170</th>\n",
       "      <td>52346496</td>\n",
       "      <td>2035</td>\n",
       "      <td>CHARGEBACK</td>\n",
       "      <td>-32.95</td>\n",
       "      <td>0</td>\n",
       "    </tr>\n",
       "    <tr>\n",
       "      <th>192</th>\n",
       "      <td>52346518</td>\n",
       "      <td>2192</td>\n",
       "      <td>CHARGEBACK</td>\n",
       "      <td>-19.95</td>\n",
       "      <td>0</td>\n",
       "    </tr>\n",
       "    <tr>\n",
       "      <th>249</th>\n",
       "      <td>52346575</td>\n",
       "      <td>2713</td>\n",
       "      <td>CHARGEBACK</td>\n",
       "      <td>-32.95</td>\n",
       "      <td>0</td>\n",
       "    </tr>\n",
       "    <tr>\n",
       "      <th>250</th>\n",
       "      <td>52346576</td>\n",
       "      <td>2713</td>\n",
       "      <td>CHARGEBACK</td>\n",
       "      <td>-32.95</td>\n",
       "      <td>0</td>\n",
       "    </tr>\n",
       "    <tr>\n",
       "      <th>344</th>\n",
       "      <td>52346670</td>\n",
       "      <td>3458</td>\n",
       "      <td>CHARGEBACK</td>\n",
       "      <td>-19.95</td>\n",
       "      <td>0</td>\n",
       "    </tr>\n",
       "    <tr>\n",
       "      <th>...</th>\n",
       "      <td>...</td>\n",
       "      <td>...</td>\n",
       "      <td>...</td>\n",
       "      <td>...</td>\n",
       "      <td>...</td>\n",
       "    </tr>\n",
       "    <tr>\n",
       "      <th>6782</th>\n",
       "      <td>52353108</td>\n",
       "      <td>54326</td>\n",
       "      <td>CHARGEBACK</td>\n",
       "      <td>-19.95</td>\n",
       "      <td>0</td>\n",
       "    </tr>\n",
       "    <tr>\n",
       "      <th>7008</th>\n",
       "      <td>52353334</td>\n",
       "      <td>56021</td>\n",
       "      <td>CHARGEBACK</td>\n",
       "      <td>-19.95</td>\n",
       "      <td>0</td>\n",
       "    </tr>\n",
       "    <tr>\n",
       "      <th>7009</th>\n",
       "      <td>52353335</td>\n",
       "      <td>56021</td>\n",
       "      <td>CHARGEBACK</td>\n",
       "      <td>-19.95</td>\n",
       "      <td>0</td>\n",
       "    </tr>\n",
       "    <tr>\n",
       "      <th>7010</th>\n",
       "      <td>52353336</td>\n",
       "      <td>56021</td>\n",
       "      <td>CHARGEBACK</td>\n",
       "      <td>-19.95</td>\n",
       "      <td>0</td>\n",
       "    </tr>\n",
       "    <tr>\n",
       "      <th>7046</th>\n",
       "      <td>52353372</td>\n",
       "      <td>56210</td>\n",
       "      <td>CHARGEBACK</td>\n",
       "      <td>-19.95</td>\n",
       "      <td>0</td>\n",
       "    </tr>\n",
       "  </tbody>\n",
       "</table>\n",
       "<p>106 rows × 5 columns</p>\n",
       "</div>"
      ],
      "text/plain": [
       "      transaction_id  sample_id transaction_type  transaction_amount  \\\n",
       "170         52346496       2035       CHARGEBACK              -32.95   \n",
       "192         52346518       2192       CHARGEBACK              -19.95   \n",
       "249         52346575       2713       CHARGEBACK              -32.95   \n",
       "250         52346576       2713       CHARGEBACK              -32.95   \n",
       "344         52346670       3458       CHARGEBACK              -19.95   \n",
       "...              ...        ...              ...                 ...   \n",
       "6782        52353108      54326       CHARGEBACK              -19.95   \n",
       "7008        52353334      56021       CHARGEBACK              -19.95   \n",
       "7009        52353335      56021       CHARGEBACK              -19.95   \n",
       "7010        52353336      56021       CHARGEBACK              -19.95   \n",
       "7046        52353372      56210       CHARGEBACK              -19.95   \n",
       "\n",
       "      test_group  \n",
       "170            0  \n",
       "192            0  \n",
       "249            0  \n",
       "250            0  \n",
       "344            0  \n",
       "...          ...  \n",
       "6782           0  \n",
       "7008           0  \n",
       "7009           0  \n",
       "7010           0  \n",
       "7046           0  \n",
       "\n",
       "[106 rows x 5 columns]"
      ]
     },
     "execution_count": 351,
     "metadata": {},
     "output_type": "execute_result"
    }
   ],
   "source": [
    "#calculating charge back rate of web form users/control group (0).\n",
    "df_control_group_chargeback = df[(df.test_group == 0) & (df.transaction_type=='CHARGEBACK')]  #repeat\n",
    "df_control_group_chargeback"
   ]
  },
  {
   "cell_type": "code",
   "execution_count": 352,
   "id": "2a8f6b95",
   "metadata": {},
   "outputs": [
    {
     "data": {
      "text/plain": [
       "transaction_id        106\n",
       "sample_id             106\n",
       "transaction_type      106\n",
       "transaction_amount    106\n",
       "test_group            106\n",
       "dtype: int64"
      ]
     },
     "execution_count": 352,
     "metadata": {},
     "output_type": "execute_result"
    }
   ],
   "source": [
    "df_control_group_chargeback.count()"
   ]
  },
  {
   "cell_type": "code",
   "execution_count": 353,
   "id": "57bcae8e",
   "metadata": {},
   "outputs": [
    {
     "data": {
      "text/plain": [
       "transaction_id        3756\n",
       "sample_id             3756\n",
       "transaction_type      3756\n",
       "transaction_amount    3756\n",
       "test_group            3756\n",
       "dtype: int64"
      ]
     },
     "execution_count": 353,
     "metadata": {},
     "output_type": "execute_result"
    }
   ],
   "source": [
    "df_control_group_rebill = df[(df.test_group == 0) & (df.transaction_type=='REBILL')]\n",
    "df_control_group_rebill.count()"
   ]
  },
  {
   "cell_type": "code",
   "execution_count": 354,
   "id": "0e543305",
   "metadata": {},
   "outputs": [
    {
     "data": {
      "text/plain": [
       "transaction_id        0.028222\n",
       "sample_id             0.028222\n",
       "transaction_type      0.028222\n",
       "transaction_amount    0.028222\n",
       "test_group            0.028222\n",
       "dtype: float64"
      ]
     },
     "execution_count": 354,
     "metadata": {},
     "output_type": "execute_result"
    }
   ],
   "source": [
    "chargeback_rate_control_group=df_control_group_chargeback.count()/df_control_group_rebill.count()\n",
    "chargeback_rate_control_group"
   ]
  },
  {
   "cell_type": "code",
   "execution_count": 355,
   "id": "eab087f0",
   "metadata": {},
   "outputs": [],
   "source": [
    "#charge back rate of webform/control group cancellation is 0.02"
   ]
  },
  {
   "cell_type": "code",
   "execution_count": 356,
   "id": "022251b9",
   "metadata": {},
   "outputs": [
    {
     "data": {
      "text/plain": [
       "transaction_id        57\n",
       "sample_id             57\n",
       "transaction_type      57\n",
       "transaction_amount    57\n",
       "test_group            57\n",
       "dtype: int64"
      ]
     },
     "execution_count": 356,
     "metadata": {},
     "output_type": "execute_result"
    }
   ],
   "source": [
    "df_test_group_chargeback.count()"
   ]
  },
  {
   "cell_type": "code",
   "execution_count": 357,
   "id": "384b63fa",
   "metadata": {},
   "outputs": [
    {
     "data": {
      "text/plain": [
       "transaction_id        3205\n",
       "sample_id             3205\n",
       "transaction_type      3205\n",
       "transaction_amount    3205\n",
       "test_group            3205\n",
       "dtype: int64"
      ]
     },
     "execution_count": 357,
     "metadata": {},
     "output_type": "execute_result"
    }
   ],
   "source": [
    "df_test_group_rebill = df[(df.test_group == 1) & (df.transaction_type=='REBILL')]\n",
    "df_test_group_rebill.count()"
   ]
  },
  {
   "cell_type": "code",
   "execution_count": 358,
   "id": "ff66f899",
   "metadata": {},
   "outputs": [
    {
     "data": {
      "text/plain": [
       "transaction_id        0.017785\n",
       "sample_id             0.017785\n",
       "transaction_type      0.017785\n",
       "transaction_amount    0.017785\n",
       "test_group            0.017785\n",
       "dtype: float64"
      ]
     },
     "execution_count": 358,
     "metadata": {},
     "output_type": "execute_result"
    }
   ],
   "source": [
    "chargeback_rate_test_group=df_test_group_chargeback.count()/df_test_group_rebill.count()\n",
    "chargeback_rate_test_group"
   ]
  },
  {
   "cell_type": "code",
   "execution_count": 359,
   "id": "97f5e3f1",
   "metadata": {},
   "outputs": [],
   "source": [
    "#charge back rate of call-in/test group cancellation is 0.017"
   ]
  },
  {
   "cell_type": "code",
   "execution_count": 360,
   "id": "fdda0b87",
   "metadata": {},
   "outputs": [],
   "source": [
    "#######################   VIZUALIZATIONS  ######################"
   ]
  },
  {
   "cell_type": "code",
   "execution_count": 361,
   "id": "1ae28283",
   "metadata": {
    "scrolled": false
   },
   "outputs": [
    {
     "data": {
      "image/png": "[encoded data removed]",
      "text/plain": [
       "<Figure size 360x360 with 1 Axes>"
      ]
     },
     "metadata": {
      "needs_background": "light"
     },
     "output_type": "display_data"
    }
   ],
   "source": [
    "#probabilty distribution of transaction_amount\n",
    "x =df['transaction_amount' ]\n",
    "sns.displot(x, color=\"red\",kde=True,);"
   ]
  },
  {
   "cell_type": "markdown",
   "id": "e0528032",
   "metadata": {},
   "source": [
    "#Probability distribution of transaction amount is skewed normal distribution."
   ]
  },
  {
   "cell_type": "code",
   "execution_count": 362,
   "id": "0694ca0f",
   "metadata": {},
   "outputs": [
    {
     "data": {
      "image/png": "[encoded data removed]",
      "text/plain": [
       "<Figure size 432x288 with 1 Axes>"
      ]
     },
     "metadata": {
      "needs_background": "light"
     },
     "output_type": "display_data"
    }
   ],
   "source": [
    "plt.scatter(df.transaction_type, df.transaction_amount)\n",
    "plt.show()"
   ]
  },
  {
   "cell_type": "code",
   "execution_count": 363,
   "id": "7b925175",
   "metadata": {},
   "outputs": [],
   "source": [
    "#it is evident from the scatter plot that chargeback and refunds are negative and no co-relation exits between them."
   ]
  },
  {
   "cell_type": "code",
   "execution_count": null,
   "id": "a96887c5",
   "metadata": {},
   "outputs": [],
   "source": []
  }
 ],
 "metadata": {
  "kernelspec": {
   "display_name": "Python 3 (ipykernel)",
   "language": "python",
   "name": "python3"
  },
  "language_info": {
   "codemirror_mode": {
    "name": "ipython",
    "version": 3
   },
   "file_extension": ".py",
   "mimetype": "text/x-python",
   "name": "python",
   "nbconvert_exporter": "python",
   "pygments_lexer": "ipython3",
   "version": "3.9.12"
  }
 },
 "nbformat": 4,
 "nbformat_minor": 5
}
